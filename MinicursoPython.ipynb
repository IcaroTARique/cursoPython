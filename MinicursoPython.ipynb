{
 "cells": [
  {
   "cell_type": "markdown",
   "metadata": {},
   "source": [
    "## Olá, glr. Nós somos Ícaro e Sandoval e estaremos hoje ministrando o maravilhoso...\n",
    "\n",
    "<h1 style=\"text-align: center;\">PYTHON - Primeiros Passos</h1>\n",
    "\n",
    "Para isso precisamos que todos conheçam OS PRIMEIROS PASSOS (NÃO DO PYTHON EM SI, mas) do **JUPYTER NOTEBOOKS** além de conceitos básicos sobre o **GITHUB + MyBinder** .\n",
    "\n",
    "### Jupyter\n",
    "Jupyter Notebooks é uma aplicação web que pode ajudar a entender e visualizar dados e resultados de análises, juntamente com o código! Facilita a experimentação, colaboração e publicação online. \n",
    "\n",
    "<h1 style=\"text-align: center;\">Porém para nosso minicurso</h1>\n",
    "<h3 style=\"text-align: center;\">NO RELY ON \"INFRA\" - MyBinder RULES</h3> "
   ]
  },
  {
   "cell_type": "markdown",
   "metadata": {},
   "source": [
    "# 1.0 - Introdução\n",
    "\n",
    "Esse minicurso visa mostrar o Python de uma maneira introdutoria seguindo o guia disponibilizado na <a href=\"https://docs.python.org/3/\"> documentação da linguagem</a>."
   ]
  },
  {
   "cell_type": "markdown",
   "metadata": {},
   "source": [
    "### 1.1 - Interpretador\n",
    "\n",
    "Para ativar o interpretador do python abra o terminal (Ctrl + Alt + T no Ubuntu) e digite  `Python3`, isso deve abrir um *prompt* de comandos, para identificar esse prompt proucure `>>>` ou `...`\n",
    "\n",
    "Como de costume com todos os materiais intordutorios em programação vamos começar com um `print`. Com o prompt aberto digite a seguinte linha de comando:\n",
    "\n",
    "`print(\"Hello Wolrd!\")`\n",
    "\n",
    "Para sair do *promt* do python digite `exit()`.\n",
    "\n",
    "Tambem é possivel executar codigos em Python no Jupyter Notebook, isto pode ser observado na celula abaixo."
   ]
  },
  {
   "cell_type": "code",
   "execution_count": 2,
   "metadata": {},
   "outputs": [
    {
     "name": "stdout",
     "output_type": "stream",
     "text": [
      "Hello World!\n"
     ]
    }
   ],
   "source": [
    "print(\"Hello World!\")"
   ]
  },
  {
   "cell_type": "markdown",
   "metadata": {},
   "source": [
    "<b><p style=\"color:red;text-align:center;\">Porém nós utilizaremos o MyBinder</p></b>\n",
    "\n",
    "#### 1º PASSO - Abra o GITHUB https://github.com/IcaroTARique\n",
    "\n",
    "Para o teste do MyBinder e para entendermos como ele funciona vamos usar um Notebook criado na tutoria de Cálculo Numérico.\n",
    "\n",
    "#### 2º PASSO - Abra o repositório de nome <span style=\"color:blue\">NumericPython</span>\n",
    "\n",
    "Dentro do repositório, copie a URL disponível no botão <span style=\"color:green\">Clone or Download</span>\n",
    "\n",
    "#### 3º PASSO - Abra o MYBINDER https://mybinder.org/\n",
    "\n",
    "![title](imagens/binder.png)\n",
    "\n",
    "### TEMOS QUE ENTENDER ...\n",
    "- Como preenchemos o campo **\"GitHub repository name or URL\"**?\n",
    "- Como preenchemos o campo **\"Git branch, tag, or commit\"**?\n",
    "- LISTA DE DEPENDENCIAS\n",
    "Para que as bibliotecas sejam importadas para o código E FUNCIONEM, temos que escrever em um arquivo de texto chamado \"requirements.txt\" onde, neste caso, temos a lista de dependencias do nosso código:\n",
    "\n",
    "    - pandas\n",
    "\n",
    "    - sympy\n",
    "   \n",
    "    - numpy\n",
    "\n",
    "    - matplotlib\n",
    "\n",
    "    - future\n",
    "\n",
    "    - python-csv\n",
    "\n",
    "\n",
    "arquivo: \"requirements.txt\" \n",
    "\n",
    "<p style=\"color:red\">OBS:. Toda essa lista é feita do nome dos pacotes a serem instalados quando a infraestrutura do MyBinder é preparada</p>\n",
    "\n",
    "OK... após esse teste, temos que RODAR NOSSO MINICURSO DE PYTHON\n",
    "\n",
    "<img src=\"imagens/doit.jpg\" alt=\"doit\" width=\"500\"/>\n"
   ]
  },
  {
   "cell_type": "markdown",
   "metadata": {},
   "source": [
    "### 1.2 - Operações basicas"
   ]
  },
  {
   "cell_type": "markdown",
   "metadata": {},
   "source": [
    "#### 1.2.1 - Operações Aritimeticas\n",
    "\n",
    "A fim de nos familizarizarmos com questões de precedencia e arredondamentos vamos tentar fazer mais algumas operações em python, execute o seguinte codigo:"
   ]
  },
  {
   "cell_type": "code",
   "execution_count": null,
   "metadata": {},
   "outputs": [],
   "source": [
    "#Uma operação simples.\n",
    "2+2-1"
   ]
  },
  {
   "cell_type": "code",
   "execution_count": null,
   "metadata": {},
   "outputs": [],
   "source": [
    "#Um exemplo de precedencia.\n",
    "50-5*6"
   ]
  },
  {
   "cell_type": "code",
   "execution_count": null,
   "metadata": {},
   "outputs": [],
   "source": [
    "#Parenteses tambem podem ser utilizados.\n",
    "(50 - 5) * 6 / 4"
   ]
  },
  {
   "cell_type": "code",
   "execution_count": null,
   "metadata": {},
   "outputs": [],
   "source": [
    "#Resultado de uma divisão que não é um numero inteiro não é arrendodado/truncado.\n",
    "8/5"
   ]
  },
  {
   "cell_type": "code",
   "execution_count": null,
   "metadata": {},
   "outputs": [],
   "source": [
    "#Mas com o seguinte operador a parte decimal é descartada.\n",
    "8//5"
   ]
  },
  {
   "cell_type": "code",
   "execution_count": null,
   "metadata": {},
   "outputs": [],
   "source": [
    "#Por fim para calcular o resto de uma divisão faz-se.\n",
    "8%5"
   ]
  },
  {
   "cell_type": "markdown",
   "metadata": {},
   "source": [
    "#### 1.2.2 - Operação de atribuição\n",
    "\n",
    "Em Python operações de atribuição a variaveis são feitas utilizando o operador `=`, uma vez que um valor é atribuido a uma variavel é possivel utiliza-la no lugar do numero para fazer operações. Um exemplo pode ser visto a seguir."
   ]
  },
  {
   "cell_type": "code",
   "execution_count": null,
   "metadata": {},
   "outputs": [],
   "source": [
    "#Operador '=' realiza atribuição, não é necessario definir o tipo da variavel.\n",
    "Lado = 2\n",
    "\n",
    "#Exibe o valor\n",
    "print(Lado)"
   ]
  },
  {
   "cell_type": "code",
   "execution_count": null,
   "metadata": {},
   "outputs": [],
   "source": [
    "#Operação de atribuição\n",
    "Lado = 10\n",
    "\n",
    "#Calculo da area do cubo utilizando 'Lado'\n",
    "Area_Cubo = Lado**2\n",
    "\n",
    "#Exibe o resultado\n",
    "print(\"Area do cubo: \", Area_Cubo, \"m2\")"
   ]
  },
  {
   "cell_type": "code",
   "execution_count": null,
   "metadata": {},
   "outputs": [],
   "source": [
    "#Complete o codigo abaixo para calcular o volume numa caixa, definido por sua Largura, Comprimento e Altura:\n",
    "\n",
    "print(\"Volume: \")"
   ]
  },
  {
   "cell_type": "markdown",
   "metadata": {},
   "source": [
    "#### 1.2.3 - Strings\n",
    "\n",
    "*Strings* são caracteres contidos dentro de aspas `\"duplas\"` ou  `'simples'` como visto no exemplo anterior é possivel concatenar *strings* e variaveis dentro de funções de `print` para melhor visualização. Abaixo seguem exemplos de possiveis operações de manipulação de strings."
   ]
  },
  {
   "cell_type": "code",
   "execution_count": null,
   "metadata": {},
   "outputs": [],
   "source": [
    "#Como obter um caractere especifico de uma string.\n",
    "String_1 = 'Python '\n",
    "\n",
    "#Mostra o elemento de indice 3 (Indices em Python começam em 0!!!).\n",
    "print(String_1[3])\n",
    "\n",
    "#Experimente indices negativos"
   ]
  },
  {
   "cell_type": "code",
   "execution_count": null,
   "metadata": {},
   "outputs": [],
   "source": [
    "#Aspas simples ou duplas, não importa.\n",
    "String_2 = \"é muito facil!\"\n",
    "\n",
    "#É possivel exibir caracterres num intervalo.\n",
    "print(String_2[0:5])"
   ]
  },
  {
   "cell_type": "code",
   "execution_count": null,
   "metadata": {},
   "outputs": [],
   "source": [
    "#O operador de soma tambem pode ser utilizado para strings\n",
    "print(String_1+String_2)\n",
    "\n",
    "#Experimente multiplicar por um escalar"
   ]
  },
  {
   "cell_type": "code",
   "execution_count": null,
   "metadata": {},
   "outputs": [],
   "source": [
    "#A função len() retorna o numero de elementos numa string.\n",
    "print(len(String_1))\n",
    "print(len(String_2))\n",
    "print(len(String_1+String_2))"
   ]
  },
  {
   "cell_type": "code",
   "execution_count": 5,
   "metadata": {},
   "outputs": [
    {
     "name": "stdout",
     "output_type": "stream",
     "text": [
      "['Hello', ' World!']\n"
     ]
    }
   ],
   "source": [
    "#A função split() separa strings em substrings caso ache um separador especifico.\n",
    "String = \"Hello, World!\"\n",
    "print(String.split(\",\"))"
   ]
  },
  {
   "cell_type": "markdown",
   "metadata": {},
   "source": [
    "#### 1.2.4 - Listas\n",
    "\n",
    "Python suporta muitos tipos de variaveis, um deles entretanto de destaca dos demais a **lista**, que podem armazenar até mesmo tipos diferentes de dados. Abaixo segue uma declaração de uma lista."
   ]
  },
  {
   "cell_type": "code",
   "execution_count": 6,
   "metadata": {},
   "outputs": [
    {
     "name": "stdout",
     "output_type": "stream",
     "text": [
      "4\n",
      "25\n",
      "[1, 4, 9]\n",
      "[4, 9, 16, 25]\n",
      "[1, 4, 9]\n",
      "[4, 9]\n",
      "[1, 9, 25]\n"
     ]
    }
   ],
   "source": [
    "#Declaração da lista.\n",
    "Quadrados = [1,4,9,16,25]\n",
    "\n",
    "#Assim como em strings é possivel retornar o elemento de um indice especifico ou um intervalo.\n",
    "print(Quadrados[1])\n",
    "\n",
    "#Podemos acessar indices no sentido contrário \n",
    "print(Quadrados[-1])\n",
    "\n",
    "#Caso um dos limites do intervalo esteja vazio...\n",
    "print(Quadrados[:3])\n",
    "\n",
    "print(Quadrados[1:])\n",
    "\n",
    "#Tambem é possivel fazer\n",
    "print(Quadrados[:-2])\n",
    "\n",
    "print(Quadrados[1:3])\n",
    "\n",
    "#Tambem é pssivel dar um passo\n",
    "print(Quadrados[::2])"
   ]
  },
  {
   "cell_type": "code",
   "execution_count": 8,
   "metadata": {},
   "outputs": [
    {
     "name": "stdout",
     "output_type": "stream",
     "text": [
      "[1, 4, 9]\n",
      "[2, 4, 9]\n",
      "True\n",
      "False\n"
     ]
    }
   ],
   "source": [
    "#Atribuições podem ser feitas\n",
    "Pequenos_Quadrados = Quadrados[:3]\n",
    "print(Pequenos_Quadrados)\n",
    "\n",
    "#E valores podem ser alterados\n",
    "Pequenos_Quadrados[0] = 2\n",
    "print(Pequenos_Quadrados)\n",
    "\n",
    "#Inclusive achar valores dentro de listas é simples\n",
    "print(16 in Quadrados)\n",
    "\n",
    "#Ou não Econtrá-los\n",
    "print(9000 in Quadrados)"
   ]
  },
  {
   "cell_type": "markdown",
   "metadata": {},
   "source": [
    "<h3 style=\"color:red;\">PROBLEMAS A VISTA</h3>"
   ]
  },
  {
   "cell_type": "code",
   "execution_count": 26,
   "metadata": {},
   "outputs": [
    {
     "name": "stdout",
     "output_type": "stream",
     "text": [
      "[1, 4, 64, 16, 25]  e [1, 4, 64, 16, 25]\n",
      "[1, 4, 64, 16, 25]  e [1, 4, 64, 16, 25] \n",
      "\n"
     ]
    }
   ],
   "source": [
    "#Copiando Lista...\n",
    "quadrados_copia = Quadrados\n",
    "print(quadrados_copia,\" e\", Quadrados)\n",
    "quadrados_copia[2] = 64\n",
    "print(quadrados_copia,\" e\", Quadrados,\"\\n\")"
   ]
  },
  {
   "cell_type": "markdown",
   "metadata": {},
   "source": [
    "<h3 style=\"color:green;\">SOLUÇÃO</h3>"
   ]
  },
  {
   "cell_type": "code",
   "execution_count": 25,
   "metadata": {},
   "outputs": [
    {
     "name": "stdout",
     "output_type": "stream",
     "text": [
      "[1, 4, 64, 16, 25]  e [1, 4, 64, 16, 25]\n",
      "[1, 4, 81, 16, 25]  e [1, 4, 64, 16, 25] \n",
      "\n"
     ]
    }
   ],
   "source": [
    "#Copiando Lista...\n",
    "quadrados_copia = Quadrados[:]\n",
    "print(quadrados_copia,\" e\", Quadrados)\n",
    "quadrados_copia[2] = 81\n",
    "print(quadrados_copia,\" e\", Quadrados,\"\\n\")"
   ]
  },
  {
   "cell_type": "code",
   "execution_count": null,
   "metadata": {},
   "outputs": [],
   "source": [
    "#Bem como concatenações\n",
    "print(Quadrados + [49,64,81])"
   ]
  },
  {
   "cell_type": "code",
   "execution_count": null,
   "metadata": {},
   "outputs": [],
   "source": [
    "#A função len() tambem pode ser utilziada em listas\n",
    "len(Quadrados)"
   ]
  },
  {
   "cell_type": "code",
   "execution_count": null,
   "metadata": {},
   "outputs": [],
   "source": [
    "#Atribuindo elementos a uma lista.\n",
    "presenca = [\"Joao\" , \"Pedro\" , \"Lucas\"]\n",
    "print(presenca)\n",
    "\n",
    "#Adicionando um elemnto ao final da lista.\n",
    "presenca.append(\"Manuela\")\n",
    "print(presenca)\n",
    "\n",
    "#Removendo um elemento da lista.\n",
    "presenca.remove(\"Pedro\")\n",
    "print(presenca)\n",
    "\n",
    "#Adicionando um elemento em uma posição especifica da lista.\n",
    "presenca.insert(2, \"Caio\")\n",
    "print(presenca)\n",
    "\n",
    "#Removendo um elemento de um pasição especifica da lista\n",
    "presenca.pop(0)\n",
    "print(presenca)"
   ]
  },
  {
   "cell_type": "code",
   "execution_count": 39,
   "metadata": {},
   "outputs": [
    {
     "name": "stdout",
     "output_type": "stream",
     "text": [
      "LISTA ->  [0, 0, 0, 0, 0, 0, 0, 0, 0, 0, 0, 0, 0, 0, 0, 0, 0, 0, 0, 0]  TAM ->  20\n"
     ]
    }
   ],
   "source": [
    "#Iniciando Lista sem precisar usar uma estrutura de repetição\n",
    "x = [0]*20\n",
    "print(\"LISTA -> \", x,\" TAM -> \",len(x))"
   ]
  },
  {
   "cell_type": "code",
   "execution_count": 42,
   "metadata": {},
   "outputs": [
    {
     "name": "stdout",
     "output_type": "stream",
     "text": [
      "LISTA ->  ['D', 'A', 'L', 'E', ' ', 'M', 'I', 'N', 'I', 'C', 'U', 'R', 'S', 'O', ' ', '!']  TAM ->  16\n"
     ]
    }
   ],
   "source": [
    "#Transformando um Array em uma lista de Char\n",
    "x = list(\"DALE MINICURSO !\")\n",
    "print(\"LISTA -> \", x,\" TAM -> \",len(x))"
   ]
  },
  {
   "cell_type": "code",
   "execution_count": 43,
   "metadata": {},
   "outputs": [
    {
     "name": "stdout",
     "output_type": "stream",
     "text": [
      "['M', 'I', 'N', 'I', 'C']\n",
      "['L', 'E', ' ', 'M', 'I', 'N', 'I', 'C', 'U']\n",
      "['D', 'A', 'L', 'E', ' ', 'M', 'I', 'N', 'I', 'C', 'U', 'R']\n",
      "['L', 'E', ' ', 'M', 'I', 'N', 'I', 'C', 'U', 'R', 'S', 'O', ' ', '!']\n"
     ]
    }
   ],
   "source": [
    "print(x[5:10])\n",
    "print(x[2:-5])\n",
    "print(x[:-4])\n",
    "print(x[2:])"
   ]
  },
  {
   "cell_type": "code",
   "execution_count": 44,
   "metadata": {},
   "outputs": [
    {
     "name": "stdout",
     "output_type": "stream",
     "text": [
      "LISTA ->  []  TAM ->  0\n"
     ]
    }
   ],
   "source": [
    "#Lista Vazia, sem elementos\n",
    "y = []\n",
    "print(\"LISTA -> \", y,\" TAM -> \",len(y))"
   ]
  },
  {
   "cell_type": "code",
   "execution_count": 48,
   "metadata": {},
   "outputs": [
    {
     "name": "stdout",
     "output_type": "stream",
     "text": [
      "['Jaqueline', 'Moises', 'Gustavo', 'Icaro', 'Sandoval', 'Franklin']\n"
     ]
    }
   ],
   "source": [
    "#Populando a Lista e imprimindo o seue reverson\n",
    "y = [\"Franklin\", \"Sandoval\", \"Icaro\", \"Gustavo\", \"Moises\", \"Jaqueline\"]\n",
    "print(list(reversed(y)))"
   ]
  },
  {
   "cell_type": "code",
   "execution_count": 49,
   "metadata": {},
   "outputs": [
    {
     "name": "stdout",
     "output_type": "stream",
     "text": [
      "['Jaqueline', 'Moises', 'Gustavo', 'Icaro', 'Sandoval', 'Franklin']\n"
     ]
    }
   ],
   "source": [
    "#Melhor maneira de imprimir uma lista reversa - INICIO:FIM:PASSO\n",
    "print(y [::-1])"
   ]
  },
  {
   "cell_type": "code",
   "execution_count": 51,
   "metadata": {},
   "outputs": [
    {
     "name": "stdout",
     "output_type": "stream",
     "text": [
      "['Gustavo', 'Moises', 'Jaqueline', 'Danilo', 'Gabriel', 'Thales', 'Dayvison', 'Franklin', 'Sandoval']\n"
     ]
    }
   ],
   "source": [
    "#Concatenando Listas com Arrays\n",
    "lista_1 = y[:2]; lista_2 = y[3:]; lista_3 = [\"Dayvison\", \"Thales\", \"Gabriel\", \"Danilo\"]\n",
    "prolista = lista_2 + lista_3[::-1] + lista_1\n",
    "print(prolista)"
   ]
  },
  {
   "cell_type": "markdown",
   "metadata": {},
   "source": [
    "#### 1.2.5 - Dicionario\n",
    "\n",
    "Os dicionarios são uma coleção de dados. Sua estrutura consiste de uma _keys_ onde cada uma delas possui _values_. Dicionarios são muito uteis para programação em python e facilitam bastante certas tarefas, abaixo vemos algums exemplos de dicionario e operações que nele podem ser feitas."
   ]
  },
  {
   "cell_type": "code",
   "execution_count": null,
   "metadata": {},
   "outputs": [],
   "source": [
    "#Criar um dicionario com dados: \n",
    "dicionario1 =\t{\n",
    "  \"Aluno\": \"Matheus\",\n",
    "  \"Nota\": \"10\",\n",
    "  \"Entrada\": 2019\n",
    "}\n",
    "print(dicionario1)\n",
    "\n",
    "#Criar um dicionario vazio e preenche-lo.\n",
    "dicionario2 = {}\n",
    "dicionario2[\"Aluno\"] = \"Italo\"\n",
    "dicionario2[\"Nota\"] = \"7\"\n",
    "dicionario2[\"Entrada\"] = 2018\n",
    "\n",
    "print(dicionario2)"
   ]
  },
  {
   "cell_type": "code",
   "execution_count": null,
   "metadata": {},
   "outputs": [],
   "source": [
    "#Um novo dicionario:\n",
    "dicionario3 = {}\n",
    "dicionario3[\"Pedro\"] = 7\n",
    "dicionario3[\"Joao\"] = 9\n",
    "dicionario3[\"Caio\"] = 8\n",
    "dicionario3[\"Alex\"] = 10\n",
    "dicionario3[\"Leticia\"] = 8.5\n",
    "\n",
    "print(dicionario3)"
   ]
  },
  {
   "cell_type": "code",
   "execution_count": null,
   "metadata": {},
   "outputs": [],
   "source": [
    "#exibir o numero de entradas num dicionario:\n",
    "print(len(dicionario3))\n",
    "\n",
    "#obter os valores de uma determinada 'key'\n",
    "print(dicionario3.get(\"Leticia\"))\n",
    "\n",
    "#alterar valores.\n",
    "dicionario3[\"Leticia\"] = 9\n",
    "print(dicionario3.get(\"Leticia\"))\n",
    "\n",
    "#remover um item\n",
    "dicionario3.pop(\"Pedro\")\n",
    "print(dicionario3)"
   ]
  },
  {
   "cell_type": "markdown",
   "metadata": {},
   "source": [
    "### Exercicio\n",
    "\n",
    "Suponha que uma turma de 13 alunos se divide em quatro grupos para a realização de um trabalho de sala, crie um unico dicionario que relacione cada grupo com seus participantes, a divisão de cada grupo segue abaixo:\n",
    "\n",
    "+ Grupo Vermelho: Mauricio, Pamela, Lucas\n",
    "+ Grupo Azul: Igor, Monica, João\n",
    "+ Grupo Verde: Matheus, Caio, Veronica, Saulo\n",
    "+ Grupo Amarelo: Sergio, Davi, Vinicius"
   ]
  },
  {
   "cell_type": "markdown",
   "metadata": {},
   "source": [
    "### 1.3 - Controle de fluxo de um programa"
   ]
  },
  {
   "cell_type": "markdown",
   "metadata": {},
   "source": [
    "#### 1.3.1 - Operadores de comparação\n",
    "\n",
    "Na programação é comum utilizar operadores logicos a fim de alterar o fluxo de execução de um programa para alcançar um determinado objetivo. Em Python os operadores de comparação funcionam como outros operadores, exceto que o resutltado de sua operação é booleano, `True` ou `False` dependendo de se a relação e verdadeira ou não. Os operadores de comparação são:\n",
    "\n",
    "* Operador de igualdade: `==`. \n",
    "* Operador de desigualdade: `!=`.\n",
    "* Operadores maior que ou menor que: `>` , `<`, `>=` ou `<=`\n",
    "\n",
    "A seguir temos alguns exemplos do uso de operadores de comparação."
   ]
  },
  {
   "cell_type": "code",
   "execution_count": 3,
   "metadata": {},
   "outputs": [
    {
     "name": "stdout",
     "output_type": "stream",
     "text": [
      "False\n"
     ]
    }
   ],
   "source": [
    "#Exemplo com operador de igualdade\n",
    "print(5 == 10)"
   ]
  },
  {
   "cell_type": "code",
   "execution_count": 2,
   "metadata": {},
   "outputs": [
    {
     "name": "stdout",
     "output_type": "stream",
     "text": [
      "False\n"
     ]
    }
   ],
   "source": [
    "#Exemplo com operador de desigualdade\n",
    "print(10 != 10)"
   ]
  },
  {
   "cell_type": "code",
   "execution_count": 1,
   "metadata": {
    "scrolled": true
   },
   "outputs": [
    {
     "name": "stdout",
     "output_type": "stream",
     "text": [
      "True\n",
      "False\n",
      "True\n",
      "False\n"
     ]
    }
   ],
   "source": [
    "#Comparando valores...\n",
    "print(10 > 5)\n",
    "print(10 < 5)\n",
    "print(5 >= 5)\n",
    "print(5.2 <= 5)"
   ]
  },
  {
   "cell_type": "code",
   "execution_count": 4,
   "metadata": {},
   "outputs": [
    {
     "name": "stdout",
     "output_type": "stream",
     "text": [
      "True\n"
     ]
    }
   ],
   "source": [
    "#Tambem é possivel concatenar essas expressões\n",
    "a = (10 == 5)\n",
    "b = (10 != 10)\n",
    "#Tanto a quanto b são False...\n",
    "print(a == b)"
   ]
  },
  {
   "cell_type": "markdown",
   "metadata": {},
   "source": [
    "#### 1.3.2 - Operadores Logicos\n",
    "\n",
    "Operadores logicos permitem analizar operações comumente presente no contexto de circuitos logicos, as portas logicas. É comum utilizar esses operadores em conjunto com os operadores de comparação para reforçar ou atenuar condições. Assim como os operadores de comparação, o resultado dessas operações pode ser um booleano `True` e `False`, ou `1` e `0`, dependendo do resultado da operação. Os operadores logicos mais comuns da linguagem são:\n",
    "\n",
    "| Operação \t| Significado \t|\n",
    "|:--------:\t|:-----------:\t|\n",
    "|    and   \t|      e      \t|\n",
    "|    or    \t|      ou     \t|\n",
    "|    not   \t|     não     \t|\n",
    "\n",
    "* AND: `and`\n",
    "* OR: `or`\n",
    "* NOT: `not`\n",
    "\n",
    "##### 1.3.2.1 - Ordem das operações (Precedência)\n",
    "\n",
    "|                   Operadores                  \t|                     Significado                     \t|\n",
    "|:---------------------------------------------:\t|:---------------------------------------------------:\t|\n",
    "|                       ()                      \t|                      Parentesis                     \t|\n",
    "|                       **                      \t|                       Expoente                      \t|\n",
    "|                   +x, -x, ~x                  \t|       Mais unário, menos unário e bitwise NOT       \t|\n",
    "|                      +, -                     \t|                  Adição e Subtração                 \t|\n",
    "|                     <<, >>                    \t|             Operadores de shift Bitwise             \t|\n",
    "|                       &                       \t|                     Bitwise AND                     \t|\n",
    "|                       ^                       \t|                     Bitwise XOR                     \t|\n",
    "|                       |                       \t|                      Bitwise OR                     \t|\n",
    "| ==, !=, >, >=, <, <=, is,  is not, in, not in \t| Comparações Identidades, e  operadores de Membresia \t|\n",
    "|                      not                      \t|                    Negação lógica                   \t|\n",
    "|                      and                      \t|                     Logical AND                     \t|\n",
    "|                       or                      \t|                      Logical OR                     \t|\n"
   ]
  },
  {
   "cell_type": "code",
   "execution_count": 16,
   "metadata": {},
   "outputs": [
    {
     "name": "stdout",
     "output_type": "stream",
     "text": [
      "Tabela verdade AND\n",
      " X | Y | S\n",
      "-----------\n",
      " 0 | 0 | 0\n",
      " 0 | 1 | 0\n",
      " 1 | 0 | 0\n",
      " 1 | 1 | 1\n"
     ]
    }
   ],
   "source": [
    "print(\"Tabela verdade AND\")\n",
    "print( \" X | Y | S\", )\n",
    "print(\"-----------\")\n",
    "print( \" 0 | 0 |\", 0 and 0)\n",
    "print( \" 0 | 1 |\", 0 and 1)\n",
    "print( \" 1 | 0 |\", 1 and 0)\n",
    "print( \" 1 | 1 |\", 1 and 1)"
   ]
  },
  {
   "cell_type": "code",
   "execution_count": 17,
   "metadata": {},
   "outputs": [
    {
     "name": "stdout",
     "output_type": "stream",
     "text": [
      "Tabela verdade OR\n",
      " X | Y | S\n",
      "-----------\n",
      " 0 | 0 | 0\n",
      " 0 | 1 | 1\n",
      " 1 | 0 | 1\n",
      " 1 | 1 | 1\n"
     ]
    }
   ],
   "source": [
    "print(\"Tabela verdade OR\")\n",
    "print( \" X | Y | S\", )\n",
    "print(\"-----------\")\n",
    "print( \" 0 | 0 |\", 0 or 0)\n",
    "print( \" 0 | 1 |\", 0 or 1)\n",
    "print( \" 1 | 0 |\", 1 or 0)\n",
    "print( \" 1 | 1 |\", 1 or 1)"
   ]
  },
  {
   "cell_type": "code",
   "execution_count": 18,
   "metadata": {},
   "outputs": [
    {
     "name": "stdout",
     "output_type": "stream",
     "text": [
      " ~X | S \n",
      "---------\n",
      " 0  | True\n",
      " 1  | False\n"
     ]
    }
   ],
   "source": [
    "print( \" ~X | S \")\n",
    "print(\"---------\")\n",
    "print( \" 0  |\", not 0)\n",
    "print( \" 1  |\", not 1)"
   ]
  },
  {
   "cell_type": "code",
   "execution_count": 19,
   "metadata": {},
   "outputs": [
    {
     "name": "stdout",
     "output_type": "stream",
     "text": [
      "0\n",
      "1\n",
      "True\n"
     ]
    }
   ],
   "source": [
    "#Exemplo de expressão logica com and.\n",
    "print(1 and 0)\n",
    "\n",
    "#Exemplo de expressão logica com or.\n",
    "print(1 or 0)\n",
    "\n",
    "#Exemplo de expressão logica com not\n",
    "print(not 0)"
   ]
  },
  {
   "cell_type": "code",
   "execution_count": 20,
   "metadata": {},
   "outputs": [
    {
     "name": "stdout",
     "output_type": "stream",
     "text": [
      "False\n",
      "True\n",
      "False\n"
     ]
    }
   ],
   "source": [
    "#Como dito anteriormente é possivel concatenar esses operadores com expressões de operadores de comparação\n",
    "print((10 > 5) and (10 < 5))\n",
    "\n",
    "print((10 == 10) or (10 != 5))\n",
    "\n",
    "print(not(5 < 10) and not(10 == 10))"
   ]
  },
  {
   "cell_type": "markdown",
   "metadata": {},
   "source": [
    "#### 1.3.3 - IF e ELIF\n",
    "\n",
    "Os operadores mostrados anteriormente não necessariamente alteram o fluxo do programa, eles são utilizados primariamente em conjunto com estruturas condicionais e de repetição, possibilitando que linhas de codigo sejam ou não executadas a seguir veremos sobre a estrutura IF:"
   ]
  },
  {
   "cell_type": "code",
   "execution_count": 21,
   "metadata": {},
   "outputs": [
    {
     "name": "stdout",
     "output_type": "stream",
     "text": [
      "Todo mundo feliz\n"
     ]
    }
   ],
   "source": [
    "minicurso = 10\n",
    "show = 10\n",
    "if (minicurso == show):\n",
    "    print( \"Todo mundo feliz\")\n",
    "else: \n",
    "    print(\" Tu nem é gente!!!\")"
   ]
  },
  {
   "cell_type": "code",
   "execution_count": null,
   "metadata": {},
   "outputs": [],
   "source": [
    "a = 0\n",
    "x = 10\n",
    "\n",
    "#Caso 'x' seja maior que 'a' o codigo dentro do if é executado.\n",
    "if(x > a):\n",
    "    a = x\n",
    "print(a)"
   ]
  },
  {
   "cell_type": "code",
   "execution_count": null,
   "metadata": {
    "scrolled": true
   },
   "outputs": [],
   "source": [
    "if(10 == 5):\n",
    "    print(\"Proposição Verdadeira.\")\n",
    "else:\n",
    "    print(\"Proposição Falsa\")"
   ]
  },
  {
   "cell_type": "markdown",
   "metadata": {},
   "source": [
    "Analizando a estrutura `if` é possivel dividi-la em duas partes, primeiro a proposição, a expressão logica logo depois do `if`, em seguida temos o trecho de codigo que será executado apenas se a expressão for verdadeira, vale atententar para a endentação nesse trecho de codigo. No exemplo anterior todo o codigo após o laço if, é possivel aninhar diversas estruturas como essa utilziando o `elif`, como mostra o exemplo a seguir"
   ]
  },
  {
   "cell_type": "code",
   "execution_count": null,
   "metadata": {},
   "outputs": [],
   "source": [
    "x = 0\n",
    "if(x == 5):\n",
    "    print(\"Proposição 1 verdadeira\")\n",
    "elif(x > 5):\n",
    "    print(\"Proposição 2 verdadeira\")\n",
    "elif(x <= 5):\n",
    "    print(\"Proposição 3 verdadeira\")\n",
    "\n",
    "#Continaução do codigo normalmente\n",
    "print(\"def\")"
   ]
  },
  {
   "cell_type": "code",
   "execution_count": 22,
   "metadata": {},
   "outputs": [
    {
     "name": "stdout",
     "output_type": "stream",
     "text": [
      "FINAL  6.0\n"
     ]
    }
   ],
   "source": [
    "nota1 = 8\n",
    "nota2 = 10\n",
    "nota3 = 0\n",
    "media = (nota1+nota2+nota3)/3\n",
    "\n",
    "if media <= 7 and media >= 5:\n",
    "    print(\"FINAL \",media)\n",
    "elif media >= 7:\n",
    "    print(\"PASSOU \", media)\n",
    "else: \n",
    "    print(\"sem jeito \", media)"
   ]
  },
  {
   "cell_type": "markdown",
   "metadata": {},
   "source": [
    "#### 1.3.4 - Laço FOR\n",
    "\n",
    "O laço de repetição `for` por padrãao é um pouco diferente de outras linguagens, este laço percorre uma lista ou um string na ordem em que os elementos são apresentados. Entretanto um comportamento semelhante ao do laço `for` em C pode ser obtido por meio da função `range`. Abaixo temos exemplos: "
   ]
  },
  {
   "cell_type": "code",
   "execution_count": 9,
   "metadata": {},
   "outputs": [
    {
     "name": "stdout",
     "output_type": "stream",
     "text": [
      "2\n",
      "3\n",
      "5\n",
      "7\n",
      "11\n",
      "13\n",
      "17\n",
      "19\n",
      "lista exibida\n"
     ]
    }
   ],
   "source": [
    "#Declaração da lista\n",
    "primos = [2, 3, 5, 7, 11, 13, 17, 19]\n",
    "\n",
    "for n in primos:\n",
    "    print(n)\n",
    "\n",
    "#Continuação do codigo normalmente\n",
    "print(\"lista exibida\")"
   ]
  },
  {
   "cell_type": "code",
   "execution_count": 12,
   "metadata": {},
   "outputs": [
    {
     "name": "stdout",
     "output_type": "stream",
     "text": [
      "um\n",
      "cinco\n",
      "sete\n",
      "onze\n",
      "treze\n",
      "dezessete\n",
      "dezenove\n"
     ]
    }
   ],
   "source": [
    "#Declaração da lista\n",
    "primos_dic = {2:\"um\", 3:\"três\", 3:\"cinco\", 7:\"sete\", 11:\"onze\", 13:\"treze\", 17:\"dezessete\", 19:\"dezenove\"}\n",
    "\n",
    "for n in primos_dic:\n",
    "    print(primos_dic[n])\n",
    "    "
   ]
  },
  {
   "cell_type": "code",
   "execution_count": 13,
   "metadata": {},
   "outputs": [
    {
     "name": "stdout",
     "output_type": "stream",
     "text": [
      "2\n",
      "3\n",
      "7\n",
      "11\n",
      "13\n",
      "17\n",
      "19\n"
     ]
    }
   ],
   "source": [
    "for n in primos_dic:\n",
    "    print(n)"
   ]
  },
  {
   "cell_type": "code",
   "execution_count": 37,
   "metadata": {},
   "outputs": [
    {
     "name": "stdout",
     "output_type": "stream",
     "text": [
      "100  95  90  85  80  75  70  65  60  55  50  45  40  35  30  25  20  15  10  5  "
     ]
    }
   ],
   "source": [
    "for item in range(100,0,-5):\n",
    "    print(item,\" \", end=\"\")"
   ]
  },
  {
   "cell_type": "code",
   "execution_count": null,
   "metadata": {},
   "outputs": [],
   "source": [
    "#Agora utilizando a função range()\n",
    "for i in range(1,10):\n",
    "    if(i%2 == 0):    #se o resto da divisão por 2 é 0 então o numero é par.\n",
    "        print(i)\n",
    "\n",
    "#Continuação do codigo normalmente\n",
    "print(\"pares na lista exibidos\")"
   ]
  },
  {
   "cell_type": "markdown",
   "metadata": {},
   "source": [
    "#### 1.3.5 - Laço WHILE\n",
    "\n",
    "Outro laço de repetição comumente utilziado é o laço `while`, diferentemente do `for` que possui um final determinado, o laço while lembra a estrutura `if` no sentido de que na maioria dos casos uma expressão logica é avaliada, entretanto é um laço de repetição, enquanto aquela expressão continuar sendo verdadeira o laço se repete. **É IMPORTANTE ATENTAR PARA EXPRESSÕES QUE RESULTAM EM VERDADEIRO SEMPRE** estas causam um loop infinito. Abaixo temos exemplos do laço `while`."
   ]
  },
  {
   "cell_type": "code",
   "execution_count": 14,
   "metadata": {
    "scrolled": true
   },
   "outputs": [
    {
     "name": "stdout",
     "output_type": "stream",
     "text": [
      "0 1 1 2 3 5 8 \n",
      "numeros exibidos\n"
     ]
    }
   ],
   "source": [
    "#a e b recebem 0 e 1 respectivamente\n",
    "a, b = 0, 1\n",
    "while(a<10):\n",
    "    print(a, end=' ')     #exibe o numero e termina com um espaço ao inves de uma quebra de linha\n",
    "    a, b = b, a+b       #a recebe b e b recebe a soma de a+b\n",
    "\n",
    "#Continuação normal do codigo\n",
    "print()      #quebra de linha\n",
    "print(\"numeros exibidos\")"
   ]
  },
  {
   "cell_type": "code",
   "execution_count": 15,
   "metadata": {},
   "outputs": [
    {
     "name": "stdout",
     "output_type": "stream",
     "text": [
      "2 é primo\n",
      "3 é primo\n",
      "4 é resultado de:  2 * 2\n",
      "5 é primo\n",
      "6 é resultado de:  2 * 3\n",
      "7 é primo\n",
      "8 é resultado de:  2 * 4\n",
      "9 é resultado de:  3 * 3\n",
      "10 é resultado de:  2 * 5\n",
      "11 é primo\n",
      "12 é resultado de:  2 * 6\n",
      "13 é primo\n",
      "14 é resultado de:  2 * 7\n"
     ]
    }
   ],
   "source": [
    "#Com nosso conhecimentos atuais é possivel seguir para um exemplo mais complexo.\n",
    "\n",
    "for n in range(2, 15):       #percorre numeros de 2 a 14.\n",
    "    for x in range(2, n):    #percorre numeros de 2 ao numero que o laço de cima está percorrendo.\n",
    "        if n % x == 0:       #se houver divisão inteira...\n",
    "            print(n, 'é resultado de: ', x, '*', n//x)\n",
    "            break\n",
    "    else:\n",
    "        #break causa saida do segundo laço for, o fluxo segue para o else, depois para o primeiro for.\n",
    "        print(n, 'é primo')"
   ]
  },
  {
   "cell_type": "code",
   "execution_count": 23,
   "metadata": {},
   "outputs": [
    {
     "name": "stdout",
     "output_type": "stream",
     "text": [
      "2  é PRIMO\n",
      "3  é PRIMO\n",
      "5  é PRIMO\n",
      "7  é PRIMO\n",
      "11  é PRIMO\n",
      "13  é PRIMO\n",
      "17  é PRIMO\n",
      "19  é PRIMO\n",
      "23  é PRIMO\n",
      "29  é PRIMO\n",
      "31  é PRIMO\n",
      "37  é PRIMO\n",
      "41  é PRIMO\n",
      "43  é PRIMO\n",
      "47  é PRIMO\n",
      "53  é PRIMO\n",
      "59  é PRIMO\n",
      "61  é PRIMO\n",
      "67  é PRIMO\n",
      "71  é PRIMO\n",
      "73  é PRIMO\n",
      "79  é PRIMO\n",
      "83  é PRIMO\n",
      "89  é PRIMO\n",
      "97  é PRIMO\n",
      "101  é PRIMO\n",
      "103  é PRIMO\n",
      "107  é PRIMO\n",
      "109  é PRIMO\n",
      "113  é PRIMO\n",
      "127  é PRIMO\n",
      "131  é PRIMO\n",
      "137  é PRIMO\n",
      "139  é PRIMO\n",
      "149  é PRIMO\n",
      "151  é PRIMO\n",
      "157  é PRIMO\n",
      "163  é PRIMO\n",
      "167  é PRIMO\n",
      "173  é PRIMO\n",
      "179  é PRIMO\n",
      "181  é PRIMO\n",
      "191  é PRIMO\n",
      "193  é PRIMO\n",
      "197  é PRIMO\n",
      "199  é PRIMO\n",
      "211  é PRIMO\n",
      "223  é PRIMO\n",
      "227  é PRIMO\n",
      "229  é PRIMO\n",
      "233  é PRIMO\n",
      "239  é PRIMO\n",
      "241  é PRIMO\n",
      "251  é PRIMO\n",
      "257  é PRIMO\n",
      "263  é PRIMO\n",
      "269  é PRIMO\n",
      "271  é PRIMO\n",
      "277  é PRIMO\n",
      "281  é PRIMO\n",
      "283  é PRIMO\n",
      "293  é PRIMO\n",
      "307  é PRIMO\n",
      "311  é PRIMO\n",
      "313  é PRIMO\n",
      "317  é PRIMO\n",
      "331  é PRIMO\n",
      "337  é PRIMO\n",
      "347  é PRIMO\n",
      "349  é PRIMO\n",
      "353  é PRIMO\n",
      "359  é PRIMO\n",
      "367  é PRIMO\n",
      "373  é PRIMO\n",
      "379  é PRIMO\n",
      "383  é PRIMO\n",
      "389  é PRIMO\n",
      "397  é PRIMO\n",
      "401  é PRIMO\n",
      "409  é PRIMO\n",
      "419  é PRIMO\n",
      "421  é PRIMO\n",
      "431  é PRIMO\n",
      "433  é PRIMO\n",
      "439  é PRIMO\n",
      "443  é PRIMO\n",
      "449  é PRIMO\n",
      "457  é PRIMO\n",
      "461  é PRIMO\n",
      "463  é PRIMO\n",
      "467  é PRIMO\n",
      "479  é PRIMO\n",
      "487  é PRIMO\n",
      "491  é PRIMO\n",
      "499  é PRIMO\n",
      "503  é PRIMO\n",
      "509  é PRIMO\n",
      "521  é PRIMO\n",
      "523  é PRIMO\n",
      "541  é PRIMO\n",
      "547  é PRIMO\n",
      "557  é PRIMO\n",
      "563  é PRIMO\n",
      "569  é PRIMO\n",
      "571  é PRIMO\n",
      "577  é PRIMO\n",
      "587  é PRIMO\n",
      "593  é PRIMO\n",
      "599  é PRIMO\n",
      "601  é PRIMO\n",
      "607  é PRIMO\n",
      "613  é PRIMO\n",
      "617  é PRIMO\n",
      "619  é PRIMO\n",
      "631  é PRIMO\n",
      "641  é PRIMO\n",
      "643  é PRIMO\n",
      "647  é PRIMO\n",
      "653  é PRIMO\n",
      "659  é PRIMO\n",
      "661  é PRIMO\n",
      "673  é PRIMO\n",
      "677  é PRIMO\n",
      "683  é PRIMO\n",
      "691  é PRIMO\n",
      "701  é PRIMO\n",
      "709  é PRIMO\n",
      "719  é PRIMO\n",
      "727  é PRIMO\n",
      "733  é PRIMO\n",
      "739  é PRIMO\n",
      "743  é PRIMO\n",
      "751  é PRIMO\n",
      "757  é PRIMO\n",
      "761  é PRIMO\n",
      "769  é PRIMO\n",
      "773  é PRIMO\n",
      "787  é PRIMO\n",
      "797  é PRIMO\n",
      "809  é PRIMO\n",
      "811  é PRIMO\n",
      "821  é PRIMO\n",
      "823  é PRIMO\n",
      "827  é PRIMO\n",
      "829  é PRIMO\n",
      "839  é PRIMO\n",
      "853  é PRIMO\n",
      "857  é PRIMO\n",
      "859  é PRIMO\n",
      "863  é PRIMO\n",
      "877  é PRIMO\n",
      "881  é PRIMO\n",
      "883  é PRIMO\n",
      "887  é PRIMO\n",
      "907  é PRIMO\n",
      "911  é PRIMO\n",
      "919  é PRIMO\n",
      "929  é PRIMO\n",
      "937  é PRIMO\n",
      "941  é PRIMO\n",
      "947  é PRIMO\n",
      "953  é PRIMO\n",
      "967  é PRIMO\n",
      "971  é PRIMO\n",
      "977  é PRIMO\n",
      "983  é PRIMO\n",
      "991  é PRIMO\n",
      "997  é PRIMO\n"
     ]
    }
   ],
   "source": [
    "# primos em 1000 numeros\n",
    "tamanho = 1000\n",
    "i = 1\n",
    "while i <= tamanho: \n",
    "    #Último numero sempre é, portanto, não é considerado\n",
    "    j = 2\n",
    "    cont = 0\n",
    "    while j < i:\n",
    "        if i%j == 0:\n",
    "            break\n",
    "        else: \n",
    "            cont += 1\n",
    "        j += 1\n",
    "    if cont == (i - 2):\n",
    "        print(i,\" é PRIMO\")\n",
    "    i += 1"
   ]
  },
  {
   "cell_type": "markdown",
   "metadata": {},
   "source": [
    "#### 1.3.6 - Definindo e chamando funções\n",
    "\n",
    "Em programas muitas vezes é necessario executar um mesmo trecho de codigo varias vezes, a fim de melhorar o reuso do codigo bem como sua legibilidade linguagens de programação fazem uso de funções. Funções consistem de duas partes, primeiro temos os parametros, estes são os dados que a função recebe e manipula, em seguida temos o corpo, que é o bloco de codigo a ser executado quando uma função é chamada. Funções uma vez declaradas podem ser invocadas no codigo qualquer momento seguindo sua definição."
   ]
  },
  {
   "cell_type": "code",
   "execution_count": 24,
   "metadata": {},
   "outputs": [],
   "source": [
    "#Definição de uma função:\n",
    "def sequencia_Fibonacci(n):    #Exibe numeros da sequencia Fibonacci até n.\n",
    "    a, b = 0, 1\n",
    "    while a < n:\n",
    "        print(a, end=' ')     #exibe o valor e adciona um espaço em branco em seguida\n",
    "        a, b = b, a+b\n",
    "    print()"
   ]
  },
  {
   "cell_type": "code",
   "execution_count": 25,
   "metadata": {},
   "outputs": [
    {
     "name": "stdout",
     "output_type": "stream",
     "text": [
      "0 1 1 2 3 5 8 13 21 34 55 89 144 233 377 610 987 1597 \n",
      "0 1 1 2 3 5 8 \n"
     ]
    }
   ],
   "source": [
    "#Agora chamamos a função\n",
    "sequencia_Fibonacci(2000)\n",
    "x = 10\n",
    "sequencia_Fibonacci(x)"
   ]
  },
  {
   "cell_type": "code",
   "execution_count": 26,
   "metadata": {},
   "outputs": [],
   "source": [
    "#Tambem é possivel retornar valores a partir de uma função.\n",
    "def calcula_Media(entrada):\n",
    "    s = 0\n",
    "    for n in entrada:\n",
    "        s += n\n",
    "    return (s/len(entrada))"
   ]
  },
  {
   "cell_type": "code",
   "execution_count": 27,
   "metadata": {},
   "outputs": [
    {
     "name": "stdout",
     "output_type": "stream",
     "text": [
      "15.0\n"
     ]
    }
   ],
   "source": [
    "lista = [10, 12, 14, 16, 18, 20]\n",
    "media = calcula_Media(lista)\n",
    "print(media)"
   ]
  },
  {
   "cell_type": "markdown",
   "metadata": {},
   "source": [
    "### EXERCÍCIO\n",
    "\n",
    "1 - Faça uma função que retorne o Fatorial de um determinado número! <br>\n",
    "2 - Faça uma função que ordene qualquer lista passada <br>"
   ]
  },
  {
   "cell_type": "markdown",
   "metadata": {},
   "source": [
    "#### 1.3.7 - Classes\n",
    "\n",
    "Classes nos permitem criar novos tipos de dados agrupados, cada um desses tipos pode ter atributos(dados) e metodos(funções) especificos que são utilizados pela classe. "
   ]
  },
  {
   "cell_type": "code",
   "execution_count": 28,
   "metadata": {},
   "outputs": [],
   "source": [
    "#Exemplo simples de classe\n",
    "class ClasseSimples:\n",
    "    atributo = 12345    #Atributo de classe\n",
    "\n",
    "    def metodo(self):    #Metodo\n",
    "        return 'hello world'"
   ]
  },
  {
   "cell_type": "code",
   "execution_count": 29,
   "metadata": {
    "scrolled": true
   },
   "outputs": [
    {
     "name": "stdout",
     "output_type": "stream",
     "text": [
      "12345\n",
      "hello world\n"
     ]
    }
   ],
   "source": [
    "x = ClasseSimples()\n",
    "\n",
    "print(x.atributo)\n",
    "print(x.metodo())"
   ]
  },
  {
   "cell_type": "code",
   "execution_count": 30,
   "metadata": {},
   "outputs": [],
   "source": [
    "class NumeroComplexo:\n",
    "    def __init__(self, real, imaginaria):\n",
    "        self.r = real\n",
    "        self.i = imaginaria"
   ]
  },
  {
   "cell_type": "code",
   "execution_count": 31,
   "metadata": {},
   "outputs": [
    {
     "name": "stdout",
     "output_type": "stream",
     "text": [
      "3.0 -4.5\n"
     ]
    }
   ],
   "source": [
    "x = NumeroComplexo(3.0, -4.5)\n",
    "print(x.r, x.i)"
   ]
  },
  {
   "cell_type": "code",
   "execution_count": 32,
   "metadata": {},
   "outputs": [],
   "source": [
    "class Cachorro:\n",
    "\n",
    "    tipo = 'canino'         #atributo de classe, todos os objetos possuem o mesmo.\n",
    "\n",
    "    def __init__(self, nome):\n",
    "        self.nome = nome    #atributos de objetos, cada objeto dessa classe vai ter o seu proprio valor."
   ]
  },
  {
   "cell_type": "code",
   "execution_count": 33,
   "metadata": {},
   "outputs": [
    {
     "name": "stdout",
     "output_type": "stream",
     "text": [
      "canino\n",
      "canino\n",
      "Rick\n",
      "Marie\n"
     ]
    }
   ],
   "source": [
    "a = Cachorro('Rick')\n",
    "b = Cachorro('Marie')\n",
    "\n",
    "print(a.tipo)\n",
    "\n",
    "print(b.tipo)\n",
    "\n",
    "print(a.nome)\n",
    "\n",
    "print(b.nome)"
   ]
  },
  {
   "cell_type": "code",
   "execution_count": null,
   "metadata": {},
   "outputs": [],
   "source": [
    "class Cachorro:\n",
    "\n",
    "    truques = []             #Colocar um atributo de classe aqui causa comportamento indesejado.\n",
    "\n",
    "    def __init__(self, nome):\n",
    "        self.nome = nome\n",
    "\n",
    "    def adicionar_truque(self, truque):\n",
    "        self.truques.append(truque)"
   ]
  },
  {
   "cell_type": "code",
   "execution_count": null,
   "metadata": {
    "scrolled": true
   },
   "outputs": [],
   "source": [
    "a = Cachorro('Rick')\n",
    "b = Cachorro('Marie')\n",
    "a.adicionar_truque('gira')\n",
    "b.adicionar_truque('finge de morto')\n",
    "print(a.truques) "
   ]
  },
  {
   "cell_type": "code",
   "execution_count": 35,
   "metadata": {},
   "outputs": [],
   "source": [
    "class Cachorro:\n",
    "\n",
    "    def __init__(self, nome):\n",
    "        self.nome = nome\n",
    "        self.truques = []      #Colocar um atributo de classe aqui é o que queremos nesse exemplo.\n",
    "\n",
    "    def adicionar_truque(self, truque):\n",
    "        self.truques.append(truque)"
   ]
  },
  {
   "cell_type": "code",
   "execution_count": 36,
   "metadata": {},
   "outputs": [
    {
     "name": "stdout",
     "output_type": "stream",
     "text": [
      "['gira']\n",
      "['finge de morto']\n"
     ]
    }
   ],
   "source": [
    "a = Cachorro('Rick')\n",
    "b = Cachorro('Marie')\n",
    "a.adicionar_truque('gira')\n",
    "b.adicionar_truque('finge de morto')\n",
    "print(a.truques) \n",
    "print(b.truques) "
   ]
  },
  {
   "cell_type": "markdown",
   "metadata": {},
   "source": [
    "### EXERCÍCIO\n",
    "\n",
    "1 - Crie um sistema que faça função de um caixa eletrônico com as operações básicas:\n",
    "    <ul>\n",
    "        <li>Saque</li>\n",
    "        <li>Depósito</li>\n",
    "        <li>Extrato</li>\n",
    "        <li>Saldo</li>\n",
    "        <li><b>EXTRA</b> - Cheque Especial</li>\n",
    "    </ul>"
   ]
  },
  {
   "cell_type": "markdown",
   "metadata": {},
   "source": [
    "### 1.4 - Python e computação numerica\n"
   ]
  },
  {
   "cell_type": "markdown",
   "metadata": {},
   "source": [
    "#### 1.4.1 - Importando Bibliotecas\n",
    "\n",
    "Python é uma ferramenta muito poderosa na computação, a linguagem possui diversas funções nativas que vão alem do escopo abordado aqui, estas visam facilitar o processo de codificação. Alem disso Python conta com poderosas bibliotecas uteis para trabalhar em nichos especificos, a biblioteca Math por exemplo nos permite fazer operações matematicas mais complexas e funções trigonometricas, a <a href=\"https://docs.scipy.org/doc/\"> NumPy e SciPy</a> por exemplo são voltadas para funções que auxiliam em computação numerica. abaixo vamos aprender como usufruir dessas poderosas ferramentas. "
   ]
  },
  {
   "cell_type": "code",
   "execution_count": 123,
   "metadata": {},
   "outputs": [],
   "source": [
    "from sympy import *\n",
    "import sympy as sy\n",
    "import numpy as np"
   ]
  },
  {
   "cell_type": "code",
   "execution_count": 86,
   "metadata": {
    "scrolled": true
   },
   "outputs": [
    {
     "name": "stdout",
     "output_type": "stream",
     "text": [
      "0.877582561890373\n"
     ]
    }
   ],
   "source": [
    "x = 1/2\n",
    "print(cos(x))"
   ]
  },
  {
   "cell_type": "code",
   "execution_count": 87,
   "metadata": {},
   "outputs": [
    {
     "name": "stdout",
     "output_type": "stream",
     "text": [
      "0.8775825618903728\n",
      "0.6931471805599453\n"
     ]
    }
   ],
   "source": [
    "#Importando funções especificas de uma biblioteca.\n",
    "from math import cos, log\n",
    "\n",
    "x = 1/2\n",
    "print(cos(x))\n",
    "print(log(2))"
   ]
  },
  {
   "cell_type": "code",
   "execution_count": 88,
   "metadata": {},
   "outputs": [
    {
     "name": "stdout",
     "output_type": "stream",
     "text": [
      "[[2 0 0]\n",
      " [0 3 0]\n",
      " [0 0 4]]\n"
     ]
    }
   ],
   "source": [
    "#Importando uma biblioteca inteira e mudando a maneira de invocar suas funções.\n",
    "import numpy as np\n",
    "\n",
    "#Definindo matrizes\n",
    "x = np.array(\n",
    "    [[1,0,0],\n",
    "     [0,1,0],\n",
    "     [0,0,1]])\n",
    "\n",
    "y = np.array(\n",
    "    [[2,0,0],\n",
    "     [0,3,0],\n",
    "     [0,0,4]])\n",
    "\n",
    "#Produto\n",
    "print(np.dot(x,y))"
   ]
  },
  {
   "cell_type": "code",
   "execution_count": 89,
   "metadata": {},
   "outputs": [
    {
     "name": "stdout",
     "output_type": "stream",
     "text": [
      "[[1 2]\n",
      " [3 4]]\n",
      "[[1 3]\n",
      " [2 4]]\n"
     ]
    }
   ],
   "source": [
    "#Definindo matriz\n",
    "x = np.array([[1,2],\n",
    "              [3,4]])\n",
    "\n",
    "print(x)\n",
    "\n",
    "#Matriz transposta\n",
    "print(x.T)"
   ]
  },
  {
   "cell_type": "markdown",
   "metadata": {},
   "source": [
    "#### 1.4.2 - Função Lambda\n",
    "\n",
    "Pequenas funções anonimas podem ser definidas com a palavra reservada `lambda`, este tipo de função é especialmente util quando trabalhamos com computação numerica, entretanto é possivel fazer diversas coisas com a função lambda, até mesmo translações em imagens. Abaixo temos alguns exemplos de uso das funções lambda."
   ]
  },
  {
   "cell_type": "code",
   "execution_count": 90,
   "metadata": {},
   "outputs": [
    {
     "name": "stdout",
     "output_type": "stream",
     "text": [
      "15\n"
     ]
    }
   ],
   "source": [
    "#definição da função y, onde a variavel é x\n",
    "y = lambda x : x + 10\n",
    "\n",
    "#exibe valor de y para x = 5\n",
    "print(y(5))"
   ]
  },
  {
   "cell_type": "code",
   "execution_count": 91,
   "metadata": {},
   "outputs": [
    {
     "name": "stdout",
     "output_type": "stream",
     "text": [
      "15\n"
     ]
    }
   ],
   "source": [
    "#definição da função y, onde as variaveis são a e b.\n",
    "fx = lambda a, b : a * (b - 3)\n",
    "\n",
    "#exibe valor de y para a = 5 e b = 6.\n",
    "print(fx(5, 6))"
   ]
  },
  {
   "cell_type": "code",
   "execution_count": 92,
   "metadata": {},
   "outputs": [
    {
     "name": "stdout",
     "output_type": "stream",
     "text": [
      "-1.7071067811865475 -0.2928932188134524\n"
     ]
    }
   ],
   "source": [
    "from math import sqrt\n",
    "\n",
    "#definição da função y, onde as variaveis são a e b.\n",
    "def CalcSegundoGrau(a,b,c):\n",
    "    #Calculo do delta\n",
    "    delta = lambda a,b,c: (b**2) - 4*a*c\n",
    "    \n",
    "    if(delta(a,b,c) < 0):      #Se delta < 0:\n",
    "        print('Não há solução real')\n",
    "    elif(delta(a,b,c) == 0):     #Se delta == 0\n",
    "        x = (-b + math.sqrt(delta(a,b,c))) / (2 * a)\n",
    "        print(x)\n",
    "    elif(delta(a,b,c) > 0):     #Se delta > 0\n",
    "        x1 = (-b - sqrt(delta(a,b,c))) / (2 * a)\n",
    "        x2 = (-b + sqrt(delta(a,b,c))) / (2 * a)\n",
    "        print(x1,x2)\n",
    "\n",
    "CalcSegundoGrau(2,4,1)"
   ]
  },
  {
   "cell_type": "code",
   "execution_count": 93,
   "metadata": {
    "scrolled": false
   },
   "outputs": [],
   "source": [
    "#Atribuindo x como simbolo\n",
    "x = symbols('x')\n",
    "\n",
    "#Definindo f(x).\n",
    "def f(x): \n",
    "    return x**2\n",
    "\n"
   ]
  },
  {
   "cell_type": "code",
   "execution_count": 94,
   "metadata": {},
   "outputs": [
    {
     "data": {
      "image/png": "[encoded data removed]",
      "text/plain": [
       "<Figure size 432x288 with 1 Axes>"
      ]
     },
     "metadata": {
      "needs_background": "light"
     },
     "output_type": "display_data"
    },
    {
     "data": {
      "text/plain": [
       "<sympy.plotting.plot.Plot at 0x7fc680303518>"
      ]
     },
     "execution_count": 94,
     "metadata": {},
     "output_type": "execute_result"
    }
   ],
   "source": [
    "#Plot f(x) entre 20 e -20.\n",
    "plot(f(x),(x,-20,20))"
   ]
  },
  {
   "cell_type": "code",
   "execution_count": 95,
   "metadata": {},
   "outputs": [
    {
     "name": "stdout",
     "output_type": "stream",
     "text": [
      "x**2\n",
      "2*x\n"
     ]
    }
   ],
   "source": [
    "#Nossa função f(x)\n",
    "print(f(x))\n",
    "\n",
    "#Derivada da nossa função f(x)\n",
    "print(f(x).diff())"
   ]
  },
  {
   "cell_type": "code",
   "execution_count": 96,
   "metadata": {},
   "outputs": [
    {
     "data": {
      "image/png": "[encoded data removed]",
      "text/plain": [
       "<Figure size 432x288 with 1 Axes>"
      ]
     },
     "metadata": {
      "needs_background": "light"
     },
     "output_type": "display_data"
    },
    {
     "data": {
      "text/plain": [
       "<sympy.plotting.plot.Plot at 0x7fc68030cf28>"
      ]
     },
     "execution_count": 96,
     "metadata": {},
     "output_type": "execute_result"
    }
   ],
   "source": [
    "#Plot f'(x) entre 20 e -20.\n",
    "plot(f(x).diff(),(x,-20,20))"
   ]
  },
  {
   "cell_type": "code",
   "execution_count": 97,
   "metadata": {},
   "outputs": [
    {
     "name": "stdout",
     "output_type": "stream",
     "text": [
      "x**3/3\n"
     ]
    }
   ],
   "source": [
    "print(integrate(f(x), x))"
   ]
  },
  {
   "cell_type": "code",
   "execution_count": 98,
   "metadata": {},
   "outputs": [
    {
     "data": {
      "image/png": "[encoded data removed]",
      "text/plain": [
       "<Figure size 432x288 with 1 Axes>"
      ]
     },
     "metadata": {
      "needs_background": "light"
     },
     "output_type": "display_data"
    },
    {
     "data": {
      "text/plain": [
       "<sympy.plotting.plot.Plot at 0x7fc68021fd30>"
      ]
     },
     "execution_count": 98,
     "metadata": {},
     "output_type": "execute_result"
    }
   ],
   "source": [
    "plot(integrate(f(x),x),(x,-20,20))"
   ]
  },
  {
   "cell_type": "markdown",
   "metadata": {},
   "source": [
    " ##### Mais Python Numérico"
   ]
  },
  {
   "cell_type": "code",
   "execution_count": 114,
   "metadata": {},
   "outputs": [],
   "source": [
    "\n",
    "x, y = symbols('x y')\n",
    "init_printing()"
   ]
  },
  {
   "cell_type": "code",
   "execution_count": 100,
   "metadata": {},
   "outputs": [],
   "source": [
    "def sf(x): \n",
    "    return x**2+5*x-50\n",
    "\n",
    "def nf(x): \n",
    "    return x**2+5*x-50"
   ]
  },
  {
   "cell_type": "code",
   "execution_count": 101,
   "metadata": {},
   "outputs": [],
   "source": [
    "def sg(x):\n",
    "    return x**3+ (3*x) - 12\n",
    "\n",
    "def ng(x):\n",
    "    return x**3+ (3*x) - 12"
   ]
  },
  {
   "cell_type": "code",
   "execution_count": 124,
   "metadata": {},
   "outputs": [],
   "source": [
    "def sp(x):  \n",
    "    return sy.sin(x)-(x**2)+4\n",
    "\n",
    "def np(x):  \n",
    "    return np.sin(x)-(x**2)+4"
   ]
  },
  {
   "cell_type": "code",
   "execution_count": 125,
   "metadata": {},
   "outputs": [],
   "source": [
    "def st(x): \n",
    "    return sy.sin(x)-sy.exp(x)\n",
    "\n",
    "def nt(x): \n",
    "    return np.sin(x)-np.exp(x)"
   ]
  },
  {
   "cell_type": "code",
   "execution_count": 104,
   "metadata": {},
   "outputs": [
    {
     "data": {
      "image/png": "[encoded data removed]",
      "text/latex": [
       "$$x^{2} + 5 x - 50$$"
      ],
      "text/plain": [
       " 2           \n",
       "x  + 5⋅x - 50"
      ]
     },
     "execution_count": 104,
     "metadata": {},
     "output_type": "execute_result"
    }
   ],
   "source": [
    "sf(x)"
   ]
  },
  {
   "cell_type": "code",
   "execution_count": 105,
   "metadata": {},
   "outputs": [
    {
     "data": {
      "image/png": "[encoded data removed]",
      "text/plain": [
       "<Figure size 432x288 with 1 Axes>"
      ]
     },
     "metadata": {
      "needs_background": "light"
     },
     "output_type": "display_data"
    },
    {
     "data": {
      "text/plain": [
       "<sympy.plotting.plot.Plot at 0x7fc6803e7c50>"
      ]
     },
     "execution_count": 105,
     "metadata": {},
     "output_type": "execute_result"
    }
   ],
   "source": [
    "plot(sf(x),(x,-20,10))"
   ]
  },
  {
   "cell_type": "code",
   "execution_count": 106,
   "metadata": {},
   "outputs": [
    {
     "data": {
      "image/png": "[encoded data removed]",
      "text/latex": [
       "$$y^{3} + 3 y - 12$$"
      ],
      "text/plain": [
       " 3           \n",
       "y  + 3⋅y - 12"
      ]
     },
     "execution_count": 106,
     "metadata": {},
     "output_type": "execute_result"
    }
   ],
   "source": [
    "sg(y)"
   ]
  },
  {
   "cell_type": "code",
   "execution_count": 107,
   "metadata": {},
   "outputs": [
    {
     "data": {
      "image/png": "[encoded data removed]",
      "text/plain": [
       "<Figure size 432x288 with 1 Axes>"
      ]
     },
     "metadata": {
      "needs_background": "light"
     },
     "output_type": "display_data"
    },
    {
     "data": {
      "image/png": "[encoded data removed]",
      "text/plain": [
       "<Figure size 432x288 with 1 Axes>"
      ]
     },
     "metadata": {
      "needs_background": "light"
     },
     "output_type": "display_data"
    },
    {
     "data": {
      "text/plain": [
       "<sympy.plotting.plot.Plot at 0x7fc6801af390>"
      ]
     },
     "execution_count": 107,
     "metadata": {},
     "output_type": "execute_result"
    }
   ],
   "source": [
    "plot(sg(y),(y,-5,5))\n",
    "plot(sg(y),(y,-20,10))"
   ]
  },
  {
   "cell_type": "code",
   "execution_count": 126,
   "metadata": {},
   "outputs": [
    {
     "data": {
      "image/png": "[encoded data removed]",
      "text/latex": [
       "$$- z^{2} + \\sin{\\left (z \\right )} + 4$$"
      ],
      "text/plain": [
       "   2             \n",
       "- z  + sin(z) + 4"
      ]
     },
     "execution_count": 126,
     "metadata": {},
     "output_type": "execute_result"
    }
   ],
   "source": [
    "sp(z)"
   ]
  },
  {
   "cell_type": "code",
   "execution_count": 127,
   "metadata": {},
   "outputs": [
    {
     "data": {
      "image/png": "[encoded data removed]",
      "text/plain": [
       "<Figure size 432x288 with 1 Axes>"
      ]
     },
     "metadata": {
      "needs_background": "light"
     },
     "output_type": "display_data"
    },
    {
     "data": {
      "image/png": "[encoded data removed]",
      "text/plain": [
       "<Figure size 432x288 with 1 Axes>"
      ]
     },
     "metadata": {
      "needs_background": "light"
     },
     "output_type": "display_data"
    },
    {
     "data": {
      "text/plain": [
       "<sympy.plotting.plot.Plot at 0x7fc680054320>"
      ]
     },
     "execution_count": 127,
     "metadata": {},
     "output_type": "execute_result"
    }
   ],
   "source": [
    "plot(sp(z),(z,-10,10))\n",
    "plot(sp(z),(z,-3,3))"
   ]
  },
  {
   "cell_type": "code",
   "execution_count": 128,
   "metadata": {},
   "outputs": [
    {
     "data": {
      "image/png": "[encoded data removed]",
      "text/latex": [
       "$$- e^{w} + \\sin{\\left (w \\right )}$$"
      ],
      "text/plain": [
       "   w         \n",
       "- ℯ  + sin(w)"
      ]
     },
     "execution_count": 128,
     "metadata": {},
     "output_type": "execute_result"
    }
   ],
   "source": [
    "st(w)"
   ]
  },
  {
   "cell_type": "code",
   "execution_count": 129,
   "metadata": {},
   "outputs": [
    {
     "data": {
      "image/png": "[encoded data removed]",
      "text/plain": [
       "<Figure size 432x288 with 1 Axes>"
      ]
     },
     "metadata": {
      "needs_background": "light"
     },
     "output_type": "display_data"
    },
    {
     "data": {
      "text/plain": [
       "<sympy.plotting.plot.Plot at 0x7fc67ffc5240>"
      ]
     },
     "execution_count": 129,
     "metadata": {},
     "output_type": "execute_result"
    }
   ],
   "source": [
    "plot(st(w),(w,-10,10))"
   ]
  },
  {
   "cell_type": "code",
   "execution_count": 130,
   "metadata": {},
   "outputs": [
    {
     "data": {
      "image/png": "[encoded data removed]",
      "text/latex": [
       "$$2 x + 5$$"
      ],
      "text/plain": [
       "2⋅x + 5"
      ]
     },
     "execution_count": 130,
     "metadata": {},
     "output_type": "execute_result"
    }
   ],
   "source": [
    "sf(x).diff()"
   ]
  },
  {
   "cell_type": "code",
   "execution_count": 131,
   "metadata": {},
   "outputs": [
    {
     "data": {
      "image/png": "[encoded data removed]",
      "text/plain": [
       "<Figure size 432x288 with 1 Axes>"
      ]
     },
     "metadata": {
      "needs_background": "light"
     },
     "output_type": "display_data"
    },
    {
     "data": {
      "text/plain": [
       "<sympy.plotting.plot.Plot at 0x7fc680173cf8>"
      ]
     },
     "execution_count": 131,
     "metadata": {},
     "output_type": "execute_result"
    }
   ],
   "source": [
    "plot(sf(x).diff(),(x,-10,10))"
   ]
  },
  {
   "cell_type": "code",
   "execution_count": 132,
   "metadata": {},
   "outputs": [
    {
     "data": {
      "image/png": "[encoded data removed]",
      "text/plain": [
       "<Figure size 432x288 with 1 Axes>"
      ]
     },
     "metadata": {
      "needs_background": "light"
     },
     "output_type": "display_data"
    },
    {
     "data": {
      "text/plain": [
       "<sympy.plotting.plot.Plot at 0x7fc680440518>"
      ]
     },
     "execution_count": 132,
     "metadata": {},
     "output_type": "execute_result"
    }
   ],
   "source": [
    "plot((sf(x).diff()).diff(),(x,-10,10))"
   ]
  },
  {
   "cell_type": "code",
   "execution_count": 133,
   "metadata": {},
   "outputs": [
    {
     "data": {
      "image/png": "[encoded data removed]",
      "text/latex": [
       "$$\\frac{x^{4}}{4} + \\frac{3 x^{2}}{2} - 12 x$$"
      ],
      "text/plain": [
       " 4      2       \n",
       "x    3⋅x        \n",
       "── + ──── - 12⋅x\n",
       "4     2         "
      ]
     },
     "execution_count": 133,
     "metadata": {},
     "output_type": "execute_result"
    }
   ],
   "source": [
    "integrate(sg(x), x)"
   ]
  },
  {
   "cell_type": "code",
   "execution_count": 134,
   "metadata": {},
   "outputs": [
    {
     "data": {
      "image/png": "[encoded data removed]",
      "text/plain": [
       "<Figure size 432x288 with 1 Axes>"
      ]
     },
     "metadata": {
      "needs_background": "light"
     },
     "output_type": "display_data"
    },
    {
     "data": {
      "text/plain": [
       "<sympy.plotting.plot.Plot at 0x7fc68000b710>"
      ]
     },
     "execution_count": 134,
     "metadata": {},
     "output_type": "execute_result"
    }
   ],
   "source": [
    "plot(integrate(sg(x), x),(x,-10,10))"
   ]
  },
  {
   "cell_type": "code",
   "execution_count": 135,
   "metadata": {},
   "outputs": [
    {
     "data": {
      "image/png": "[encoded data removed]",
      "text/latex": [
       "$$\\frac{x^{5}}{20} + \\frac{x^{3}}{2} - 6 x^{2}$$"
      ],
      "text/plain": [
       " 5    3       \n",
       "x    x       2\n",
       "── + ── - 6⋅x \n",
       "20   2        "
      ]
     },
     "execution_count": 135,
     "metadata": {},
     "output_type": "execute_result"
    }
   ],
   "source": [
    "integrate(integrate(sg(x), x),x)"
   ]
  },
  {
   "cell_type": "code",
   "execution_count": 136,
   "metadata": {},
   "outputs": [
    {
     "data": {
      "image/png": "[encoded data removed]",
      "text/plain": [
       "<Figure size 432x288 with 1 Axes>"
      ]
     },
     "metadata": {
      "needs_background": "light"
     },
     "output_type": "display_data"
    },
    {
     "data": {
      "text/plain": [
       "<sympy.plotting.plot.Plot at 0x7fc6800073c8>"
      ]
     },
     "execution_count": 136,
     "metadata": {},
     "output_type": "execute_result"
    }
   ],
   "source": [
    "plot(integrate(integrate(sg(x), x),x),(x,-10,10))"
   ]
  },
  {
   "cell_type": "code",
   "execution_count": 139,
   "metadata": {},
   "outputs": [
    {
     "data": {
      "image/png": "[encoded data removed]",
      "text/latex": [
       "$$\\frac{x^{6}}{120} + \\frac{x^{4}}{8} - 2 x^{3}$$"
      ],
      "text/plain": [
       "  6    4       \n",
       " x    x       3\n",
       "─── + ── - 2⋅x \n",
       "120   8        "
      ]
     },
     "execution_count": 139,
     "metadata": {},
     "output_type": "execute_result"
    }
   ],
   "source": [
    "integrate(integrate(integrate(sg(x), x),x))"
   ]
  },
  {
   "cell_type": "code",
   "execution_count": 141,
   "metadata": {},
   "outputs": [
    {
     "data": {
      "image/png": "[encoded data removed]",
      "text/plain": [
       "<Figure size 432x288 with 1 Axes>"
      ]
     },
     "metadata": {
      "needs_background": "light"
     },
     "output_type": "display_data"
    },
    {
     "data": {
      "text/plain": [
       "(<sympy.plotting.plot.Plot at 0x7fc67fe64588>, (x, -10, 10))"
      ]
     },
     "execution_count": 141,
     "metadata": {},
     "output_type": "execute_result"
    }
   ],
   "source": [
    "plot(integrate(integrate(sg(x), x),x),(x,-10,10)),(x,-10,10)"
   ]
  },
  {
   "cell_type": "markdown",
   "metadata": {},
   "source": [
    "### 1.5 - Conclusão\n",
    "\n",
    "Este curso visou proporcionar um primeiro concato com dos participantes com essa poderosa linguagem de pogramação que é o Python. Este material vai ficar como referencia para consulta futura dos interessados. Entretanto antes de finalizar é necessario apresentar mais um conceito. Como foi possivel perceber todos os codigos foram executados a partir do Jupyter ou do *prompt* proprio do Python, mas a maneira mais simples de rodar um arquivo mais complexo em Python é fazendo arquivo com o codigo e executando a partir do terminal. Sabendo disso siga os seguintes passos:\n",
    "\n",
    "1. Abra o terminal e digite: `gedit`.\n",
    "2. Copie a seguinte linha de codigo, e cole no arquivo de texto:\n",
    "`print('Minicurso Encerrado!')`\n",
    "3. Salve o arquivo com a extensão .py (mantenha em mente o nome do arquivo e a pasta em que ele vai ser salvo).\n",
    "4. Navege pelo terminal até a pasta em questão.\n",
    "5. Digite `Python3 Nome.py` para executar."
   ]
  },
  {
   "cell_type": "markdown",
   "metadata": {},
   "source": [
    "# Obrigado pela participação!"
   ]
  }
 ],
 "metadata": {
  "kernelspec": {
   "display_name": "Python 3",
   "language": "python",
   "name": "python3"
  },
  "language_info": {
   "codemirror_mode": {
    "name": "ipython",
    "version": 3
   },
   "file_extension": ".py",
   "mimetype": "text/x-python",
   "name": "python",
   "nbconvert_exporter": "python",
   "pygments_lexer": "ipython3",
   "version": "3.7.0"
  }
 },
 "nbformat": 4,
 "nbformat_minor": 2
}
